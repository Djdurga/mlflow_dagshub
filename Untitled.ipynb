{
 "cells": [
  {
   "cell_type": "code",
   "execution_count": 1,
   "id": "ee63bc90-95ff-4cdb-ac7a-8890b6a7631f",
   "metadata": {},
   "outputs": [
    {
     "name": "stdout",
     "output_type": "stream",
     "text": [
      "Requirement already satisfied: mlflow in /opt/anaconda3/lib/python3.11/site-packages (2.2.2)\n",
      "Requirement already satisfied: click<9,>=7.0 in /opt/anaconda3/lib/python3.11/site-packages (from mlflow) (8.1.7)\n",
      "Requirement already satisfied: cloudpickle<3 in /opt/anaconda3/lib/python3.11/site-packages (from mlflow) (2.2.1)\n",
      "Requirement already satisfied: databricks-cli<1,>=0.8.7 in /opt/anaconda3/lib/python3.11/site-packages (from mlflow) (0.18.0)\n",
      "Requirement already satisfied: entrypoints<1 in /opt/anaconda3/lib/python3.11/site-packages (from mlflow) (0.4)\n",
      "Requirement already satisfied: gitpython<4,>=2.1.0 in /opt/anaconda3/lib/python3.11/site-packages (from mlflow) (3.1.37)\n",
      "Requirement already satisfied: pyyaml<7,>=5.1 in /opt/anaconda3/lib/python3.11/site-packages (from mlflow) (6.0.1)\n",
      "Requirement already satisfied: protobuf<5,>=3.12.0 in /opt/anaconda3/lib/python3.11/site-packages (from mlflow) (3.20.3)\n",
      "Requirement already satisfied: pytz<2023 in /opt/anaconda3/lib/python3.11/site-packages (from mlflow) (2022.7.1)\n",
      "Requirement already satisfied: requests<3,>=2.17.3 in /opt/anaconda3/lib/python3.11/site-packages (from mlflow) (2.31.0)\n",
      "Collecting packaging<24 (from mlflow)\n",
      "  Downloading packaging-23.2-py3-none-any.whl.metadata (3.2 kB)\n",
      "Requirement already satisfied: importlib-metadata!=4.7.0,<7,>=3.7.0 in /opt/anaconda3/lib/python3.11/site-packages (from mlflow) (6.11.0)\n",
      "Requirement already satisfied: sqlparse<1,>=0.4.0 in /opt/anaconda3/lib/python3.11/site-packages (from mlflow) (0.5.3)\n",
      "Requirement already satisfied: alembic<2 in /opt/anaconda3/lib/python3.11/site-packages (from mlflow) (1.15.2)\n",
      "Requirement already satisfied: docker<7,>=4.0.0 in /opt/anaconda3/lib/python3.11/site-packages (from mlflow) (6.1.3)\n",
      "Requirement already satisfied: Flask<3 in /opt/anaconda3/lib/python3.11/site-packages (from mlflow) (2.2.5)\n",
      "Requirement already satisfied: numpy<2 in /opt/anaconda3/lib/python3.11/site-packages (from mlflow) (1.26.4)\n",
      "Requirement already satisfied: scipy<2 in /opt/anaconda3/lib/python3.11/site-packages (from mlflow) (1.11.4)\n",
      "Requirement already satisfied: pandas<3 in /opt/anaconda3/lib/python3.11/site-packages (from mlflow) (2.1.4)\n",
      "Requirement already satisfied: querystring-parser<2 in /opt/anaconda3/lib/python3.11/site-packages (from mlflow) (1.2.4)\n",
      "Requirement already satisfied: sqlalchemy<3,>=1.4.0 in /opt/anaconda3/lib/python3.11/site-packages (from mlflow) (2.0.25)\n",
      "Requirement already satisfied: scikit-learn<2 in /opt/anaconda3/lib/python3.11/site-packages (from mlflow) (1.2.2)\n",
      "Requirement already satisfied: pyarrow<12,>=4.0.0 in /opt/anaconda3/lib/python3.11/site-packages (from mlflow) (11.0.0)\n",
      "Requirement already satisfied: shap<1,>=0.40 in /opt/anaconda3/lib/python3.11/site-packages (from mlflow) (0.47.2)\n",
      "Requirement already satisfied: markdown<4,>=3.3 in /opt/anaconda3/lib/python3.11/site-packages (from mlflow) (3.4.1)\n",
      "Requirement already satisfied: matplotlib<4 in /opt/anaconda3/lib/python3.11/site-packages (from mlflow) (3.8.0)\n",
      "Requirement already satisfied: gunicorn<21 in /opt/anaconda3/lib/python3.11/site-packages (from mlflow) (20.1.0)\n",
      "Requirement already satisfied: Jinja2<4,>=2.11 in /opt/anaconda3/lib/python3.11/site-packages (from mlflow) (3.1.3)\n",
      "Requirement already satisfied: Mako in /opt/anaconda3/lib/python3.11/site-packages (from alembic<2->mlflow) (1.3.10)\n",
      "Requirement already satisfied: typing-extensions>=4.12 in /opt/anaconda3/lib/python3.11/site-packages (from alembic<2->mlflow) (4.13.2)\n",
      "Requirement already satisfied: pyjwt>=1.7.0 in /opt/anaconda3/lib/python3.11/site-packages (from databricks-cli<1,>=0.8.7->mlflow) (2.4.0)\n",
      "Requirement already satisfied: oauthlib>=3.1.0 in /opt/anaconda3/lib/python3.11/site-packages (from databricks-cli<1,>=0.8.7->mlflow) (3.2.2)\n",
      "Requirement already satisfied: tabulate>=0.7.7 in /opt/anaconda3/lib/python3.11/site-packages (from databricks-cli<1,>=0.8.7->mlflow) (0.9.0)\n",
      "Requirement already satisfied: six>=1.10.0 in /opt/anaconda3/lib/python3.11/site-packages (from databricks-cli<1,>=0.8.7->mlflow) (1.16.0)\n",
      "Requirement already satisfied: urllib3<3,>=1.26.7 in /opt/anaconda3/lib/python3.11/site-packages (from databricks-cli<1,>=0.8.7->mlflow) (2.0.7)\n",
      "Requirement already satisfied: websocket-client>=0.32.0 in /opt/anaconda3/lib/python3.11/site-packages (from docker<7,>=4.0.0->mlflow) (0.58.0)\n",
      "Requirement already satisfied: Werkzeug>=2.2.2 in /opt/anaconda3/lib/python3.11/site-packages (from Flask<3->mlflow) (2.2.3)\n",
      "Requirement already satisfied: itsdangerous>=2.0 in /opt/anaconda3/lib/python3.11/site-packages (from Flask<3->mlflow) (2.0.1)\n",
      "Requirement already satisfied: gitdb<5,>=4.0.1 in /opt/anaconda3/lib/python3.11/site-packages (from gitpython<4,>=2.1.0->mlflow) (4.0.7)\n",
      "Requirement already satisfied: smmap<5,>=3.0.1 in /opt/anaconda3/lib/python3.11/site-packages (from gitdb<5,>=4.0.1->gitpython<4,>=2.1.0->mlflow) (4.0.0)\n",
      "Requirement already satisfied: setuptools>=3.0 in /opt/anaconda3/lib/python3.11/site-packages (from gunicorn<21->mlflow) (65.5.0)\n",
      "Requirement already satisfied: zipp>=0.5 in /opt/anaconda3/lib/python3.11/site-packages (from importlib-metadata!=4.7.0,<7,>=3.7.0->mlflow) (3.17.0)\n",
      "Requirement already satisfied: MarkupSafe>=2.0 in /opt/anaconda3/lib/python3.11/site-packages (from Jinja2<4,>=2.11->mlflow) (2.1.3)\n",
      "Requirement already satisfied: contourpy>=1.0.1 in /opt/anaconda3/lib/python3.11/site-packages (from matplotlib<4->mlflow) (1.2.0)\n",
      "Requirement already satisfied: cycler>=0.10 in /opt/anaconda3/lib/python3.11/site-packages (from matplotlib<4->mlflow) (0.11.0)\n",
      "Requirement already satisfied: fonttools>=4.22.0 in /opt/anaconda3/lib/python3.11/site-packages (from matplotlib<4->mlflow) (4.25.0)\n",
      "Requirement already satisfied: kiwisolver>=1.0.1 in /opt/anaconda3/lib/python3.11/site-packages (from matplotlib<4->mlflow) (1.4.4)\n",
      "Requirement already satisfied: pillow>=6.2.0 in /opt/anaconda3/lib/python3.11/site-packages (from matplotlib<4->mlflow) (10.2.0)\n",
      "Requirement already satisfied: pyparsing>=2.3.1 in /opt/anaconda3/lib/python3.11/site-packages (from matplotlib<4->mlflow) (3.0.9)\n",
      "Requirement already satisfied: python-dateutil>=2.7 in /opt/anaconda3/lib/python3.11/site-packages (from matplotlib<4->mlflow) (2.8.2)\n",
      "Requirement already satisfied: tzdata>=2022.1 in /opt/anaconda3/lib/python3.11/site-packages (from pandas<3->mlflow) (2023.3)\n",
      "Requirement already satisfied: charset-normalizer<4,>=2 in /opt/anaconda3/lib/python3.11/site-packages (from requests<3,>=2.17.3->mlflow) (2.0.4)\n",
      "Requirement already satisfied: idna<4,>=2.5 in /opt/anaconda3/lib/python3.11/site-packages (from requests<3,>=2.17.3->mlflow) (3.4)\n",
      "Requirement already satisfied: certifi>=2017.4.17 in /opt/anaconda3/lib/python3.11/site-packages (from requests<3,>=2.17.3->mlflow) (2024.8.30)\n",
      "Requirement already satisfied: joblib>=1.1.1 in /opt/anaconda3/lib/python3.11/site-packages (from scikit-learn<2->mlflow) (1.2.0)\n",
      "Requirement already satisfied: threadpoolctl>=2.0.0 in /opt/anaconda3/lib/python3.11/site-packages (from scikit-learn<2->mlflow) (3.6.0)\n",
      "Requirement already satisfied: tqdm>=4.27.0 in /opt/anaconda3/lib/python3.11/site-packages (from shap<1,>=0.40->mlflow) (4.65.0)\n",
      "Requirement already satisfied: slicer==0.0.8 in /opt/anaconda3/lib/python3.11/site-packages (from shap<1,>=0.40->mlflow) (0.0.8)\n",
      "Requirement already satisfied: numba>=0.54 in /opt/anaconda3/lib/python3.11/site-packages (from shap<1,>=0.40->mlflow) (0.59.0)\n",
      "Requirement already satisfied: greenlet!=0.4.17 in /opt/anaconda3/lib/python3.11/site-packages (from sqlalchemy<3,>=1.4.0->mlflow) (3.0.1)\n",
      "Requirement already satisfied: llvmlite<0.43,>=0.42.0dev0 in /opt/anaconda3/lib/python3.11/site-packages (from numba>=0.54->shap<1,>=0.40->mlflow) (0.42.0)\n",
      "Downloading packaging-23.2-py3-none-any.whl (53 kB)\n",
      "Installing collected packages: packaging\n",
      "  Attempting uninstall: packaging\n",
      "    Found existing installation: packaging 24.2\n",
      "    Uninstalling packaging-24.2:\n",
      "      Successfully uninstalled packaging-24.2\n",
      "\u001b[31mERROR: pip's dependency resolver does not currently take into account all the packages that are installed. This behaviour is the source of the following dependency conflicts.\n",
      "mlxtend 0.23.4 requires scikit-learn>=1.3.1, but you have scikit-learn 1.2.2 which is incompatible.\u001b[0m\u001b[31m\n",
      "\u001b[0mSuccessfully installed packaging-23.2\n",
      "Note: you may need to restart the kernel to use updated packages.\n"
     ]
    }
   ],
   "source": [
    "pip install mlflow"
   ]
  },
  {
   "cell_type": "code",
   "execution_count": null,
   "id": "c53dcd3f-b5fc-4db1-986d-80942172f8b6",
   "metadata": {},
   "outputs": [
    {
     "name": "stdout",
     "output_type": "stream",
     "text": [
      "[2025-06-08 09:17:28 +0530] [32934] [INFO] Starting gunicorn 20.1.0\n",
      "[2025-06-08 09:17:28 +0530] [32934] [INFO] Listening at: http://127.0.0.1:5000 (32934)\n",
      "[2025-06-08 09:17:28 +0530] [32934] [INFO] Using worker: sync\n",
      "[2025-06-08 09:17:28 +0530] [32935] [INFO] Booting worker with pid: 32935\n",
      "[2025-06-08 09:17:28 +0530] [32936] [INFO] Booting worker with pid: 32936\n",
      "[2025-06-08 09:17:28 +0530] [32937] [INFO] Booting worker with pid: 32937\n",
      "[2025-06-08 09:17:28 +0530] [32938] [INFO] Booting worker with pid: 32938\n"
     ]
    }
   ],
   "source": [
    "!mlflow ui\n"
   ]
  },
  {
   "cell_type": "code",
   "execution_count": null,
   "id": "a839fc44-1f02-407b-999c-56bb40aa8d87",
   "metadata": {},
   "outputs": [],
   "source": []
  }
 ],
 "metadata": {
  "kernelspec": {
   "display_name": "Python 3 (ipykernel)",
   "language": "python",
   "name": "python3"
  },
  "language_info": {
   "codemirror_mode": {
    "name": "ipython",
    "version": 3
   },
   "file_extension": ".py",
   "mimetype": "text/x-python",
   "name": "python",
   "nbconvert_exporter": "python",
   "pygments_lexer": "ipython3",
   "version": "3.11.7"
  }
 },
 "nbformat": 4,
 "nbformat_minor": 5
}
